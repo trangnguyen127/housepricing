{
 "cells": [
  {
   "cell_type": "code",
   "execution_count": 1,
   "metadata": {
    "execution": {
     "iopub.execute_input": "2021-07-24T19:07:49.225897Z",
     "iopub.status.busy": "2021-07-24T19:07:49.225260Z",
     "iopub.status.idle": "2021-07-24T19:07:49.975459Z",
     "shell.execute_reply": "2021-07-24T19:07:49.974302Z",
     "shell.execute_reply.started": "2021-07-24T19:07:49.225840Z"
    }
   },
   "outputs": [
    {
     "name": "stderr",
     "output_type": "stream",
     "text": [
      "'lscpu' is not recognized as an internal or external command,\n",
      "operable program or batch file.\n"
     ]
    }
   ],
   "source": [
    "#get CPU Info\n",
    "!lscpu"
   ]
  },
  {
   "cell_type": "code",
   "execution_count": 2,
   "metadata": {
    "execution": {
     "iopub.execute_input": "2021-07-24T19:07:49.977487Z",
     "iopub.status.busy": "2021-07-24T19:07:49.977174Z",
     "iopub.status.idle": "2021-07-24T19:07:50.711181Z",
     "shell.execute_reply": "2021-07-24T19:07:50.709923Z",
     "shell.execute_reply.started": "2021-07-24T19:07:49.977455Z"
    }
   },
   "outputs": [
    {
     "name": "stderr",
     "output_type": "stream",
     "text": [
      "'nvidia-smi' is not recognized as an internal or external command,\n",
      "operable program or batch file.\n"
     ]
    }
   ],
   "source": [
    "#get GPU Info\n",
    "!nvidia-smi"
   ]
  },
  {
   "cell_type": "code",
   "execution_count": 12,
   "metadata": {},
   "outputs": [
    {
     "name": "stdout",
     "output_type": "stream",
     "text": [
      "Collecting missingno\n",
      "  Downloading missingno-0.5.0-py3-none-any.whl (8.8 kB)\n",
      "Requirement already satisfied: matplotlib in c:\\tools\\anaconda3\\lib\\site-packages (from missingno) (3.3.2)\n",
      "Requirement already satisfied: seaborn in c:\\tools\\anaconda3\\lib\\site-packages (from missingno) (0.11.0)\n",
      "Requirement already satisfied: scipy in c:\\tools\\anaconda3\\lib\\site-packages (from missingno) (1.5.2)\n",
      "Requirement already satisfied: numpy in c:\\tools\\anaconda3\\lib\\site-packages (from missingno) (1.19.2)\n",
      "Requirement already satisfied: cycler>=0.10 in c:\\tools\\anaconda3\\lib\\site-packages (from matplotlib->missingno) (0.10.0)\n",
      "Requirement already satisfied: pyparsing!=2.0.4,!=2.1.2,!=2.1.6,>=2.0.3 in c:\\tools\\anaconda3\\lib\\site-packages (from matplotlib->missingno) (2.4.7)\n",
      "Requirement already satisfied: certifi>=2020.06.20 in c:\\tools\\anaconda3\\lib\\site-packages (from matplotlib->missingno) (2020.6.20)\n",
      "Requirement already satisfied: kiwisolver>=1.0.1 in c:\\tools\\anaconda3\\lib\\site-packages (from matplotlib->missingno) (1.3.0)\n",
      "Requirement already satisfied: python-dateutil>=2.1 in c:\\tools\\anaconda3\\lib\\site-packages (from matplotlib->missingno) (2.8.1)\n",
      "Requirement already satisfied: pillow>=6.2.0 in c:\\tools\\anaconda3\\lib\\site-packages (from matplotlib->missingno) (8.0.1)\n",
      "Requirement already satisfied: pandas>=0.23 in c:\\tools\\anaconda3\\lib\\site-packages (from seaborn->missingno) (1.1.3)\n",
      "Requirement already satisfied: six in c:\\users\\rymcc\\appdata\\roaming\\python\\python38\\site-packages (from cycler>=0.10->matplotlib->missingno) (1.14.0)\n",
      "Requirement already satisfied: pytz>=2017.2 in c:\\tools\\anaconda3\\lib\\site-packages (from pandas>=0.23->seaborn->missingno) (2020.1)\n",
      "Installing collected packages: missingno\n",
      "Successfully installed missingno-0.5.0\n",
      "Requirement already satisfied: kaggle in c:\\tools\\anaconda3\\lib\\site-packages (1.5.12)\n",
      "Requirement already satisfied: tqdm in c:\\tools\\anaconda3\\lib\\site-packages (from kaggle) (4.50.2)\n",
      "Requirement already satisfied: python-dateutil in c:\\tools\\anaconda3\\lib\\site-packages (from kaggle) (2.8.1)\n",
      "Requirement already satisfied: certifi in c:\\tools\\anaconda3\\lib\\site-packages (from kaggle) (2020.6.20)\n",
      "Requirement already satisfied: six>=1.10 in c:\\users\\rymcc\\appdata\\roaming\\python\\python38\\site-packages (from kaggle) (1.14.0)\n",
      "Requirement already satisfied: python-slugify in c:\\tools\\anaconda3\\lib\\site-packages (from kaggle) (5.0.2)\n",
      "Requirement already satisfied: requests in c:\\tools\\anaconda3\\lib\\site-packages (from kaggle) (2.24.0)\n",
      "Requirement already satisfied: urllib3 in c:\\tools\\anaconda3\\lib\\site-packages (from kaggle) (1.25.11)\n",
      "Requirement already satisfied: text-unidecode>=1.3 in c:\\tools\\anaconda3\\lib\\site-packages (from python-slugify->kaggle) (1.3)\n",
      "Requirement already satisfied: idna<3,>=2.5 in c:\\tools\\anaconda3\\lib\\site-packages (from requests->kaggle) (2.10)\n",
      "Requirement already satisfied: chardet<4,>=3.0.2 in c:\\tools\\anaconda3\\lib\\site-packages (from requests->kaggle) (3.0.4)\n",
      "house-prices-advanced-regression-techniques.zip: Skipping, found more recently modified local copy (use --force to force download)\n"
     ]
    }
   ],
   "source": [
    "!pip install missingno\n",
    "!pip install kaggle\n",
    "!kaggle competitions download -c house-prices-advanced-regression-techniques"
   ]
  },
  {
   "cell_type": "code",
   "execution_count": 4,
   "metadata": {
    "_cell_guid": "b1076dfc-b9ad-4769-8c92-a6c4dae69d19",
    "_uuid": "8f2839f25d086af736a60e9eeb907d3b93b6e0e5",
    "execution": {
     "iopub.execute_input": "2021-07-24T19:07:50.714368Z",
     "iopub.status.busy": "2021-07-24T19:07:50.713922Z",
     "iopub.status.idle": "2021-07-24T19:07:50.725492Z",
     "shell.execute_reply": "2021-07-24T19:07:50.723995Z",
     "shell.execute_reply.started": "2021-07-24T19:07:50.714315Z"
    }
   },
   "outputs": [
    {
     "name": "stdout",
     "output_type": "stream",
     "text": [
      "house-prices-advanced-regression-techniques/data_description.txt\n",
      "house-prices-advanced-regression-techniques/sample_submission.csv\n",
      "house-prices-advanced-regression-techniques/test.csv\n",
      "house-prices-advanced-regression-techniques/train.csv\n"
     ]
    }
   ],
   "source": [
    "# This Python 3 environment comes with many helpful analytics libraries installed\n",
    "# It is defined by the kaggle/python Docker image: https://github.com/kaggle/docker-python\n",
    "# For example, here's several helpful packages to load\n",
    "\n",
    "import numpy as np # linear algebra\n",
    "import pandas as pd # data processing, CSV file I/O (e.g. pd.read_csv)\n",
    "\n",
    "# Input data files are available in the read-only \"../input/\" directory\n",
    "# For example, running this (by clicking run or pressing Shift+Enter) will list all files under the input directory\n",
    "\n",
    "import os\n",
    "for dirname, _, filenames in os.walk('house-prices-advanced-regression-techniques/'):\n",
    "    for filename in filenames:\n",
    "        print(os.path.join(dirname, filename))\n",
    "\n",
    "# You can write up to 20GB to the current directory (/kaggle/working/) that gets preserved as output when you create a version using \"Save & Run All\" \n",
    "# You can also write temporary files to /kaggle/temp/, but they won't be saved outside of the current session"
   ]
  },
  {
   "cell_type": "code",
   "execution_count": 5,
   "metadata": {
    "execution": {
     "iopub.execute_input": "2021-07-24T19:07:50.727634Z",
     "iopub.status.busy": "2021-07-24T19:07:50.727328Z",
     "iopub.status.idle": "2021-07-24T19:07:50.811863Z",
     "shell.execute_reply": "2021-07-24T19:07:50.810891Z",
     "shell.execute_reply.started": "2021-07-24T19:07:50.727604Z"
    },
    "scrolled": true
   },
   "outputs": [],
   "source": [
    "#load data\n",
    "filepath_train = 'house-prices-advanced-regression-techniques/train.csv'\n",
    "filepath_test = 'house-prices-advanced-regression-techniques/test.csv'\n",
    "data_train = pd.read_csv(filepath_train)\n",
    "data_test = pd.read_csv(filepath_test)"
   ]
  },
  {
   "cell_type": "code",
   "execution_count": 6,
   "metadata": {
    "execution": {
     "iopub.execute_input": "2021-07-24T19:07:50.813371Z",
     "iopub.status.busy": "2021-07-24T19:07:50.813098Z",
     "iopub.status.idle": "2021-07-24T19:07:50.864481Z",
     "shell.execute_reply": "2021-07-24T19:07:50.863507Z",
     "shell.execute_reply.started": "2021-07-24T19:07:50.813345Z"
    }
   },
   "outputs": [
    {
     "data": {
      "text/html": [
       "<div>\n",
       "<style scoped>\n",
       "    .dataframe tbody tr th:only-of-type {\n",
       "        vertical-align: middle;\n",
       "    }\n",
       "\n",
       "    .dataframe tbody tr th {\n",
       "        vertical-align: top;\n",
       "    }\n",
       "\n",
       "    .dataframe thead th {\n",
       "        text-align: right;\n",
       "    }\n",
       "</style>\n",
       "<table border=\"1\" class=\"dataframe\">\n",
       "  <thead>\n",
       "    <tr style=\"text-align: right;\">\n",
       "      <th></th>\n",
       "      <th>Id</th>\n",
       "      <th>MSSubClass</th>\n",
       "      <th>MSZoning</th>\n",
       "      <th>LotFrontage</th>\n",
       "      <th>LotArea</th>\n",
       "      <th>Street</th>\n",
       "      <th>Alley</th>\n",
       "      <th>LotShape</th>\n",
       "      <th>LandContour</th>\n",
       "      <th>Utilities</th>\n",
       "      <th>...</th>\n",
       "      <th>PoolArea</th>\n",
       "      <th>PoolQC</th>\n",
       "      <th>Fence</th>\n",
       "      <th>MiscFeature</th>\n",
       "      <th>MiscVal</th>\n",
       "      <th>MoSold</th>\n",
       "      <th>YrSold</th>\n",
       "      <th>SaleType</th>\n",
       "      <th>SaleCondition</th>\n",
       "      <th>SalePrice</th>\n",
       "    </tr>\n",
       "  </thead>\n",
       "  <tbody>\n",
       "    <tr>\n",
       "      <th>0</th>\n",
       "      <td>1</td>\n",
       "      <td>60</td>\n",
       "      <td>RL</td>\n",
       "      <td>65.0</td>\n",
       "      <td>8450</td>\n",
       "      <td>Pave</td>\n",
       "      <td>NaN</td>\n",
       "      <td>Reg</td>\n",
       "      <td>Lvl</td>\n",
       "      <td>AllPub</td>\n",
       "      <td>...</td>\n",
       "      <td>0</td>\n",
       "      <td>NaN</td>\n",
       "      <td>NaN</td>\n",
       "      <td>NaN</td>\n",
       "      <td>0</td>\n",
       "      <td>2</td>\n",
       "      <td>2008</td>\n",
       "      <td>WD</td>\n",
       "      <td>Normal</td>\n",
       "      <td>208500</td>\n",
       "    </tr>\n",
       "    <tr>\n",
       "      <th>1</th>\n",
       "      <td>2</td>\n",
       "      <td>20</td>\n",
       "      <td>RL</td>\n",
       "      <td>80.0</td>\n",
       "      <td>9600</td>\n",
       "      <td>Pave</td>\n",
       "      <td>NaN</td>\n",
       "      <td>Reg</td>\n",
       "      <td>Lvl</td>\n",
       "      <td>AllPub</td>\n",
       "      <td>...</td>\n",
       "      <td>0</td>\n",
       "      <td>NaN</td>\n",
       "      <td>NaN</td>\n",
       "      <td>NaN</td>\n",
       "      <td>0</td>\n",
       "      <td>5</td>\n",
       "      <td>2007</td>\n",
       "      <td>WD</td>\n",
       "      <td>Normal</td>\n",
       "      <td>181500</td>\n",
       "    </tr>\n",
       "    <tr>\n",
       "      <th>2</th>\n",
       "      <td>3</td>\n",
       "      <td>60</td>\n",
       "      <td>RL</td>\n",
       "      <td>68.0</td>\n",
       "      <td>11250</td>\n",
       "      <td>Pave</td>\n",
       "      <td>NaN</td>\n",
       "      <td>IR1</td>\n",
       "      <td>Lvl</td>\n",
       "      <td>AllPub</td>\n",
       "      <td>...</td>\n",
       "      <td>0</td>\n",
       "      <td>NaN</td>\n",
       "      <td>NaN</td>\n",
       "      <td>NaN</td>\n",
       "      <td>0</td>\n",
       "      <td>9</td>\n",
       "      <td>2008</td>\n",
       "      <td>WD</td>\n",
       "      <td>Normal</td>\n",
       "      <td>223500</td>\n",
       "    </tr>\n",
       "    <tr>\n",
       "      <th>3</th>\n",
       "      <td>4</td>\n",
       "      <td>70</td>\n",
       "      <td>RL</td>\n",
       "      <td>60.0</td>\n",
       "      <td>9550</td>\n",
       "      <td>Pave</td>\n",
       "      <td>NaN</td>\n",
       "      <td>IR1</td>\n",
       "      <td>Lvl</td>\n",
       "      <td>AllPub</td>\n",
       "      <td>...</td>\n",
       "      <td>0</td>\n",
       "      <td>NaN</td>\n",
       "      <td>NaN</td>\n",
       "      <td>NaN</td>\n",
       "      <td>0</td>\n",
       "      <td>2</td>\n",
       "      <td>2006</td>\n",
       "      <td>WD</td>\n",
       "      <td>Abnorml</td>\n",
       "      <td>140000</td>\n",
       "    </tr>\n",
       "    <tr>\n",
       "      <th>4</th>\n",
       "      <td>5</td>\n",
       "      <td>60</td>\n",
       "      <td>RL</td>\n",
       "      <td>84.0</td>\n",
       "      <td>14260</td>\n",
       "      <td>Pave</td>\n",
       "      <td>NaN</td>\n",
       "      <td>IR1</td>\n",
       "      <td>Lvl</td>\n",
       "      <td>AllPub</td>\n",
       "      <td>...</td>\n",
       "      <td>0</td>\n",
       "      <td>NaN</td>\n",
       "      <td>NaN</td>\n",
       "      <td>NaN</td>\n",
       "      <td>0</td>\n",
       "      <td>12</td>\n",
       "      <td>2008</td>\n",
       "      <td>WD</td>\n",
       "      <td>Normal</td>\n",
       "      <td>250000</td>\n",
       "    </tr>\n",
       "  </tbody>\n",
       "</table>\n",
       "<p>5 rows × 81 columns</p>\n",
       "</div>"
      ],
      "text/plain": [
       "   Id  MSSubClass MSZoning  LotFrontage  LotArea Street Alley LotShape  \\\n",
       "0   1          60       RL         65.0     8450   Pave   NaN      Reg   \n",
       "1   2          20       RL         80.0     9600   Pave   NaN      Reg   \n",
       "2   3          60       RL         68.0    11250   Pave   NaN      IR1   \n",
       "3   4          70       RL         60.0     9550   Pave   NaN      IR1   \n",
       "4   5          60       RL         84.0    14260   Pave   NaN      IR1   \n",
       "\n",
       "  LandContour Utilities  ... PoolArea PoolQC Fence MiscFeature MiscVal MoSold  \\\n",
       "0         Lvl    AllPub  ...        0    NaN   NaN         NaN       0      2   \n",
       "1         Lvl    AllPub  ...        0    NaN   NaN         NaN       0      5   \n",
       "2         Lvl    AllPub  ...        0    NaN   NaN         NaN       0      9   \n",
       "3         Lvl    AllPub  ...        0    NaN   NaN         NaN       0      2   \n",
       "4         Lvl    AllPub  ...        0    NaN   NaN         NaN       0     12   \n",
       "\n",
       "  YrSold  SaleType  SaleCondition  SalePrice  \n",
       "0   2008        WD         Normal     208500  \n",
       "1   2007        WD         Normal     181500  \n",
       "2   2008        WD         Normal     223500  \n",
       "3   2006        WD        Abnorml     140000  \n",
       "4   2008        WD         Normal     250000  \n",
       "\n",
       "[5 rows x 81 columns]"
      ]
     },
     "execution_count": 6,
     "metadata": {},
     "output_type": "execute_result"
    }
   ],
   "source": [
    "data_train.head()"
   ]
  },
  {
   "cell_type": "code",
   "execution_count": 7,
   "metadata": {
    "execution": {
     "iopub.execute_input": "2021-07-24T19:07:50.866408Z",
     "iopub.status.busy": "2021-07-24T19:07:50.866054Z",
     "iopub.status.idle": "2021-07-24T19:07:50.903068Z",
     "shell.execute_reply": "2021-07-24T19:07:50.901746Z",
     "shell.execute_reply.started": "2021-07-24T19:07:50.866376Z"
    }
   },
   "outputs": [
    {
     "name": "stdout",
     "output_type": "stream",
     "text": [
      "<class 'pandas.core.frame.DataFrame'>\n",
      "RangeIndex: 1460 entries, 0 to 1459\n",
      "Data columns (total 81 columns):\n",
      " #   Column         Non-Null Count  Dtype  \n",
      "---  ------         --------------  -----  \n",
      " 0   Id             1460 non-null   int64  \n",
      " 1   MSSubClass     1460 non-null   int64  \n",
      " 2   MSZoning       1460 non-null   object \n",
      " 3   LotFrontage    1201 non-null   float64\n",
      " 4   LotArea        1460 non-null   int64  \n",
      " 5   Street         1460 non-null   object \n",
      " 6   Alley          91 non-null     object \n",
      " 7   LotShape       1460 non-null   object \n",
      " 8   LandContour    1460 non-null   object \n",
      " 9   Utilities      1460 non-null   object \n",
      " 10  LotConfig      1460 non-null   object \n",
      " 11  LandSlope      1460 non-null   object \n",
      " 12  Neighborhood   1460 non-null   object \n",
      " 13  Condition1     1460 non-null   object \n",
      " 14  Condition2     1460 non-null   object \n",
      " 15  BldgType       1460 non-null   object \n",
      " 16  HouseStyle     1460 non-null   object \n",
      " 17  OverallQual    1460 non-null   int64  \n",
      " 18  OverallCond    1460 non-null   int64  \n",
      " 19  YearBuilt      1460 non-null   int64  \n",
      " 20  YearRemodAdd   1460 non-null   int64  \n",
      " 21  RoofStyle      1460 non-null   object \n",
      " 22  RoofMatl       1460 non-null   object \n",
      " 23  Exterior1st    1460 non-null   object \n",
      " 24  Exterior2nd    1460 non-null   object \n",
      " 25  MasVnrType     1452 non-null   object \n",
      " 26  MasVnrArea     1452 non-null   float64\n",
      " 27  ExterQual      1460 non-null   object \n",
      " 28  ExterCond      1460 non-null   object \n",
      " 29  Foundation     1460 non-null   object \n",
      " 30  BsmtQual       1423 non-null   object \n",
      " 31  BsmtCond       1423 non-null   object \n",
      " 32  BsmtExposure   1422 non-null   object \n",
      " 33  BsmtFinType1   1423 non-null   object \n",
      " 34  BsmtFinSF1     1460 non-null   int64  \n",
      " 35  BsmtFinType2   1422 non-null   object \n",
      " 36  BsmtFinSF2     1460 non-null   int64  \n",
      " 37  BsmtUnfSF      1460 non-null   int64  \n",
      " 38  TotalBsmtSF    1460 non-null   int64  \n",
      " 39  Heating        1460 non-null   object \n",
      " 40  HeatingQC      1460 non-null   object \n",
      " 41  CentralAir     1460 non-null   object \n",
      " 42  Electrical     1459 non-null   object \n",
      " 43  1stFlrSF       1460 non-null   int64  \n",
      " 44  2ndFlrSF       1460 non-null   int64  \n",
      " 45  LowQualFinSF   1460 non-null   int64  \n",
      " 46  GrLivArea      1460 non-null   int64  \n",
      " 47  BsmtFullBath   1460 non-null   int64  \n",
      " 48  BsmtHalfBath   1460 non-null   int64  \n",
      " 49  FullBath       1460 non-null   int64  \n",
      " 50  HalfBath       1460 non-null   int64  \n",
      " 51  BedroomAbvGr   1460 non-null   int64  \n",
      " 52  KitchenAbvGr   1460 non-null   int64  \n",
      " 53  KitchenQual    1460 non-null   object \n",
      " 54  TotRmsAbvGrd   1460 non-null   int64  \n",
      " 55  Functional     1460 non-null   object \n",
      " 56  Fireplaces     1460 non-null   int64  \n",
      " 57  FireplaceQu    770 non-null    object \n",
      " 58  GarageType     1379 non-null   object \n",
      " 59  GarageYrBlt    1379 non-null   float64\n",
      " 60  GarageFinish   1379 non-null   object \n",
      " 61  GarageCars     1460 non-null   int64  \n",
      " 62  GarageArea     1460 non-null   int64  \n",
      " 63  GarageQual     1379 non-null   object \n",
      " 64  GarageCond     1379 non-null   object \n",
      " 65  PavedDrive     1460 non-null   object \n",
      " 66  WoodDeckSF     1460 non-null   int64  \n",
      " 67  OpenPorchSF    1460 non-null   int64  \n",
      " 68  EnclosedPorch  1460 non-null   int64  \n",
      " 69  3SsnPorch      1460 non-null   int64  \n",
      " 70  ScreenPorch    1460 non-null   int64  \n",
      " 71  PoolArea       1460 non-null   int64  \n",
      " 72  PoolQC         7 non-null      object \n",
      " 73  Fence          281 non-null    object \n",
      " 74  MiscFeature    54 non-null     object \n",
      " 75  MiscVal        1460 non-null   int64  \n",
      " 76  MoSold         1460 non-null   int64  \n",
      " 77  YrSold         1460 non-null   int64  \n",
      " 78  SaleType       1460 non-null   object \n",
      " 79  SaleCondition  1460 non-null   object \n",
      " 80  SalePrice      1460 non-null   int64  \n",
      "dtypes: float64(3), int64(35), object(43)\n",
      "memory usage: 924.0+ KB\n"
     ]
    }
   ],
   "source": [
    "data_train.info()"
   ]
  },
  {
   "cell_type": "code",
   "execution_count": 8,
   "metadata": {
    "execution": {
     "iopub.execute_input": "2021-07-24T19:07:50.905275Z",
     "iopub.status.busy": "2021-07-24T19:07:50.904829Z",
     "iopub.status.idle": "2021-07-24T19:07:50.927937Z",
     "shell.execute_reply": "2021-07-24T19:07:50.926862Z",
     "shell.execute_reply.started": "2021-07-24T19:07:50.905227Z"
    }
   },
   "outputs": [
    {
     "name": "stdout",
     "output_type": "stream",
     "text": [
      "Id                 0\n",
      "MSSubClass         0\n",
      "MSZoning           4\n",
      "LotFrontage      227\n",
      "LotArea            0\n",
      "                ... \n",
      "MiscVal            0\n",
      "MoSold             0\n",
      "YrSold             0\n",
      "SaleType           1\n",
      "SaleCondition      0\n",
      "Length: 80, dtype: int64\n",
      "total_missing 7000\n",
      "total_cell 116720\n",
      "percent_missing 5.9972583961617545\n"
     ]
    }
   ],
   "source": [
    "#check missing values\n",
    "missing_count = data_test.isnull().sum()\n",
    "print(missing_count)\n",
    "total_missing = missing_count.sum()\n",
    "print(\"total_missing\", total_missing)\n",
    "total_cell = np.product(data_test.shape)\n",
    "print(\"total_cell\", total_cell)\n",
    "percent_missing = (total_missing / total_cell) * 100\n",
    "print(\"percent_missing\", percent_missing)"
   ]
  },
  {
   "cell_type": "code",
   "execution_count": 9,
   "metadata": {
    "execution": {
     "iopub.execute_input": "2021-07-24T19:07:50.932019Z",
     "iopub.status.busy": "2021-07-24T19:07:50.931557Z",
     "iopub.status.idle": "2021-07-24T19:07:51.983018Z",
     "shell.execute_reply": "2021-07-24T19:07:51.981825Z",
     "shell.execute_reply.started": "2021-07-24T19:07:50.931972Z"
    }
   },
   "outputs": [],
   "source": [
    "#Separate target value and index\n",
    "from sklearn.model_selection import train_test_split\n",
    "y_trainval = data_train.SalePrice\n",
    "trainval_ID = data_train.Id\n",
    "X_trainval = data_train.drop(['SalePrice', 'Id'], axis=1)\n",
    "test_ID = data_test.Id\n",
    "X_test = data_test.drop(['Id'], axis=1)\n"
   ]
  },
  {
   "cell_type": "code",
   "execution_count": 13,
   "metadata": {
    "execution": {
     "iopub.execute_input": "2021-07-24T19:07:52.128191Z",
     "iopub.status.busy": "2021-07-24T19:07:52.127838Z",
     "iopub.status.idle": "2021-07-24T19:07:53.240025Z",
     "shell.execute_reply": "2021-07-24T19:07:53.239015Z",
     "shell.execute_reply.started": "2021-07-24T19:07:52.128157Z"
    }
   },
   "outputs": [
    {
     "data": {
      "text/plain": [
       "<AxesSubplot:>"
      ]
     },
     "execution_count": 13,
     "metadata": {},
     "output_type": "execute_result"
    },
    {
     "data": {
      "image/png": "[encoded data removed]",
      "text/plain": [
       "<Figure size 1440x1008 with 2 Axes>"
      ]
     },
     "metadata": {
      "needs_background": "light"
     },
     "output_type": "display_data"
    }
   ],
   "source": [
    "#vizualize whether the data has missing values\n",
    "import missingno\n",
    "missingno.matrix(df=X_trainval, figsize=(20,14), color=(0.5,0,0))"
   ]
  },
  {
   "cell_type": "code",
   "execution_count": 14,
   "metadata": {
    "execution": {
     "iopub.execute_input": "2021-07-24T19:07:53.241549Z",
     "iopub.status.busy": "2021-07-24T19:07:53.241265Z",
     "iopub.status.idle": "2021-07-24T19:07:53.399390Z",
     "shell.execute_reply": "2021-07-24T19:07:53.398426Z",
     "shell.execute_reply.started": "2021-07-24T19:07:53.241521Z"
    }
   },
   "outputs": [
    {
     "name": "stdout",
     "output_type": "stream",
     "text": [
      "training data+++++++++++++++++++++\n",
      "LotFrontage: 259 nans\n",
      "Alley: 1369 nans\n",
      "MasVnrType: 8 nans\n",
      "MasVnrArea: 8 nans\n",
      "BsmtQual: 37 nans\n",
      "BsmtCond: 37 nans\n",
      "BsmtExposure: 38 nans\n",
      "BsmtFinType1: 37 nans\n",
      "BsmtFinType2: 38 nans\n",
      "Electrical: 1 nans\n",
      "FireplaceQu: 690 nans\n",
      "GarageType: 81 nans\n",
      "GarageYrBlt: 81 nans\n",
      "GarageFinish: 81 nans\n",
      "GarageQual: 81 nans\n",
      "GarageCond: 81 nans\n",
      "PoolQC: 1453 nans\n",
      "Fence: 1179 nans\n",
      "MiscFeature: 1406 nans\n",
      "testing data++++++++++++++++++++++ \n",
      "MSZoning: 4 nans\n",
      "LotFrontage: 227 nans\n",
      "Alley: 1352 nans\n",
      "Utilities: 2 nans\n",
      "Exterior1st: 1 nans\n",
      "Exterior2nd: 1 nans\n",
      "MasVnrType: 16 nans\n",
      "MasVnrArea: 15 nans\n",
      "BsmtQual: 44 nans\n",
      "BsmtCond: 45 nans\n",
      "BsmtExposure: 44 nans\n",
      "BsmtFinType1: 42 nans\n",
      "BsmtFinSF1: 1 nans\n",
      "BsmtFinType2: 42 nans\n",
      "BsmtFinSF2: 1 nans\n",
      "BsmtUnfSF: 1 nans\n",
      "TotalBsmtSF: 1 nans\n",
      "BsmtFullBath: 2 nans\n",
      "BsmtHalfBath: 2 nans\n",
      "KitchenQual: 1 nans\n",
      "Functional: 2 nans\n",
      "FireplaceQu: 730 nans\n",
      "GarageType: 76 nans\n",
      "GarageYrBlt: 78 nans\n",
      "GarageFinish: 78 nans\n",
      "GarageCars: 1 nans\n",
      "GarageArea: 1 nans\n",
      "GarageQual: 78 nans\n",
      "GarageCond: 78 nans\n",
      "PoolQC: 1456 nans\n",
      "Fence: 1169 nans\n",
      "MiscFeature: 1408 nans\n",
      "SaleType: 1 nans\n"
     ]
    }
   ],
   "source": [
    "#Check which feature has missing values\n",
    "print('training data+++++++++++++++++++++')\n",
    "for i in np.arange(X_trainval.shape[1]):\n",
    "    n = X_trainval.iloc[:,i].isnull().sum() \n",
    "    if n > 0:\n",
    "        print(list(X_trainval.columns.values)[i] + ': ' + str(n) + ' nans')\n",
    "print('testing data++++++++++++++++++++++ ')\n",
    "for i in np.arange(X_test.shape[1]):\n",
    "    n = X_test.iloc[:,i].isnull().sum() \n",
    "    if n > 0:\n",
    "        print(list(X_test.columns.values)[i] + ': ' + str(n) + ' nans')"
   ]
  },
  {
   "cell_type": "code",
   "execution_count": 21,
   "metadata": {
    "execution": {
     "iopub.execute_input": "2021-07-24T19:07:53.400838Z",
     "iopub.status.busy": "2021-07-24T19:07:53.400527Z",
     "iopub.status.idle": "2021-07-24T19:07:54.393281Z",
     "shell.execute_reply": "2021-07-24T19:07:54.392146Z",
     "shell.execute_reply.started": "2021-07-24T19:07:53.400808Z"
    }
   },
   "outputs": [
    {
     "data": {
      "text/plain": [
       "<AxesSubplot:>"
      ]
     },
     "execution_count": 21,
     "metadata": {},
     "output_type": "execute_result"
    },
    {
     "data": {
      "image/png": "[encoded data removed]",
      "text/plain": [
       "<Figure size 1440x1008 with 2 Axes>"
      ]
     },
     "metadata": {
      "needs_background": "light"
     },
     "output_type": "display_data"
    }
   ],
   "source": [
    "#Drop features have a lot of missing values and fill in missing values\n",
    "from sklearn.impute import SimpleImputer\n",
    "X_mat = pd.concat([X_trainval, X_test])\n",
    "X_mat = X_mat.drop(['LotFrontage', 'MasVnrArea', 'GarageYrBlt'], axis=1)\n",
    "impute = SimpleImputer(strategy='most_frequent')\n",
    "X_mat = pd.DataFrame(impute.fit_transform(X_mat), columns=X_mat.columns)\n",
    "#Check if the data still has missing values\n",
    "missingno.matrix(df=X_mat, figsize=(20, 14), color=(0.5,0,0))\n"
   ]
  },
  {
   "cell_type": "code",
   "execution_count": 24,
   "metadata": {
    "execution": {
     "iopub.execute_input": "2021-07-24T19:07:55.016684Z",
     "iopub.status.busy": "2021-07-24T19:07:55.016373Z",
     "iopub.status.idle": "2021-07-24T19:07:55.022540Z",
     "shell.execute_reply": "2021-07-24T19:07:55.021361Z",
     "shell.execute_reply.started": "2021-07-24T19:07:55.016635Z"
    }
   },
   "outputs": [],
   "source": [
    "X_trainval = X_mat.iloc[:data_train.shape[0],:]\n",
    "X_test = X_mat.iloc[data_train.shape[0]:,:]"
   ]
  },
  {
   "cell_type": "code",
   "execution_count": 25,
   "metadata": {
    "execution": {
     "iopub.execute_input": "2021-07-24T19:07:51.986574Z",
     "iopub.status.busy": "2021-07-24T19:07:51.986208Z",
     "iopub.status.idle": "2021-07-24T19:07:52.126587Z",
     "shell.execute_reply": "2021-07-24T19:07:52.125506Z",
     "shell.execute_reply.started": "2021-07-24T19:07:51.986543Z"
    }
   },
   "outputs": [],
   "source": [
    "#preprocess categorical data\n",
    "from sklearn.preprocessing import OneHotEncoder\n",
    "categorical_cols = [cname for cname in X_trainval.columns if X_trainval[cname].dtype == \"object\"]\n",
    "low_cardinality_cols = [cname for cname in X_trainval.columns if X_trainval[cname].nunique() < 15 and \n",
    "                        X_trainval[cname].dtype == \"object\"]\n",
    "OH = OneHotEncoder(handle_unknown='ignore', sparse=False)\n",
    "OH_col_trainval = pd.DataFrame(OH.fit_transform(X_trainval[low_cardinality_cols]))\n",
    "OH_col_test = pd.DataFrame(OH.transform(X_test[low_cardinality_cols]))\n",
    "OH_col_trainval.index = X_trainval.index\n",
    "OH_col_trainval.columns = OH.get_feature_names(low_cardinality_cols)\n",
    "OH_col_test.index = X_test.index\n",
    "OH_col_test.columns = OH.get_feature_names(low_cardinality_cols)\n",
    "num_X_trainval = X_trainval.drop(categorical_cols, axis=1)\n",
    "num_X_test = X_test.drop(categorical_cols, axis=1)\n",
    "X_trainval = pd.concat([num_X_trainval, OH_col_trainval], axis=1)\n",
    "X_test = pd.concat([num_X_test, OH_col_test], axis=1)"
   ]
  },
  {
   "cell_type": "code",
   "execution_count": 26,
   "metadata": {
    "execution": {
     "iopub.execute_input": "2021-07-24T19:07:54.395404Z",
     "iopub.status.busy": "2021-07-24T19:07:54.394989Z",
     "iopub.status.idle": "2021-07-24T19:07:54.402279Z",
     "shell.execute_reply": "2021-07-24T19:07:54.401076Z",
     "shell.execute_reply.started": "2021-07-24T19:07:54.395361Z"
    }
   },
   "outputs": [
    {
     "name": "stdout",
     "output_type": "stream",
     "text": [
      "['MSSubClass' 'MSZoning' 'LotArea' 'Street' 'Alley' 'LotShape'\n",
      " 'LandContour' 'Utilities' 'LotConfig' 'LandSlope' 'Neighborhood'\n",
      " 'Condition1' 'Condition2' 'BldgType' 'HouseStyle' 'OverallQual'\n",
      " 'OverallCond' 'YearBuilt' 'YearRemodAdd' 'RoofStyle' 'RoofMatl'\n",
      " 'Exterior1st' 'Exterior2nd' 'MasVnrType' 'ExterQual' 'ExterCond'\n",
      " 'Foundation' 'BsmtQual' 'BsmtCond' 'BsmtExposure' 'BsmtFinType1'\n",
      " 'BsmtFinSF1' 'BsmtFinType2' 'BsmtFinSF2' 'BsmtUnfSF' 'TotalBsmtSF'\n",
      " 'Heating' 'HeatingQC' 'CentralAir' 'Electrical' '1stFlrSF' '2ndFlrSF'\n",
      " 'LowQualFinSF' 'GrLivArea' 'BsmtFullBath' 'BsmtHalfBath' 'FullBath'\n",
      " 'HalfBath' 'BedroomAbvGr' 'KitchenAbvGr' 'KitchenQual' 'TotRmsAbvGrd'\n",
      " 'Functional' 'Fireplaces' 'FireplaceQu' 'GarageType' 'GarageFinish'\n",
      " 'GarageCars' 'GarageArea' 'GarageQual' 'GarageCond' 'PavedDrive'\n",
      " 'WoodDeckSF' 'OpenPorchSF' 'EnclosedPorch' '3SsnPorch' 'ScreenPorch'\n",
      " 'PoolArea' 'PoolQC' 'Fence' 'MiscFeature' 'MiscVal' 'MoSold' 'YrSold'\n",
      " 'SaleType' 'SaleCondition']\n",
      "76columns\n"
     ]
    }
   ],
   "source": [
    "print(X_mat.columns.values)\n",
    "print(str(X_mat.shape[1]) + 'columns')"
   ]
  },
  {
   "cell_type": "code",
   "execution_count": 27,
   "metadata": {
    "execution": {
     "iopub.execute_input": "2021-07-24T19:07:54.404688Z",
     "iopub.status.busy": "2021-07-24T19:07:54.404201Z",
     "iopub.status.idle": "2021-07-24T19:07:54.433363Z",
     "shell.execute_reply": "2021-07-24T19:07:54.432362Z",
     "shell.execute_reply.started": "2021-07-24T19:07:54.404617Z"
    }
   },
   "outputs": [
    {
     "name": "stdout",
     "output_type": "stream",
     "text": [
      "There are currently 77 columns.\n"
     ]
    }
   ],
   "source": [
    "X_mat['TotalSF'] = X_mat['TotalBsmtSF'] + X_mat['1stFlrSF'] + X_mat['2ndFlrSF']\n",
    "print('There are currently ' + str(X_mat.shape[1]) + ' columns.')"
   ]
  },
  {
   "cell_type": "code",
   "execution_count": 28,
   "metadata": {
    "execution": {
     "iopub.execute_input": "2021-07-24T19:07:54.435009Z",
     "iopub.status.busy": "2021-07-24T19:07:54.434720Z",
     "iopub.status.idle": "2021-07-24T19:07:54.741288Z",
     "shell.execute_reply": "2021-07-24T19:07:54.740229Z",
     "shell.execute_reply.started": "2021-07-24T19:07:54.434980Z"
    }
   },
   "outputs": [
    {
     "name": "stderr",
     "output_type": "stream",
     "text": [
      "C:\\tools\\Anaconda3\\lib\\site-packages\\seaborn\\distributions.py:2551: FutureWarning: `distplot` is a deprecated function and will be removed in a future version. Please adapt your code to use either `displot` (a figure-level function with similar flexibility) or `histplot` (an axes-level function for histograms).\n",
      "  warnings.warn(msg, FutureWarning)\n"
     ]
    },
    {
     "data": {
      "image/png": "[encoded data removed]",
      "text/plain": [
       "<Figure size 432x288 with 1 Axes>"
      ]
     },
     "metadata": {
      "needs_background": "light"
     },
     "output_type": "display_data"
    }
   ],
   "source": [
    "#Check if the target value is normally distributed\n",
    "import seaborn as sns\n",
    "import matplotlib.pyplot as plt\n",
    "ax = sns.distplot(y_trainval)\n",
    "plt.show()"
   ]
  },
  {
   "cell_type": "code",
   "execution_count": 29,
   "metadata": {
    "execution": {
     "iopub.execute_input": "2021-07-24T19:07:54.743068Z",
     "iopub.status.busy": "2021-07-24T19:07:54.742763Z",
     "iopub.status.idle": "2021-07-24T19:07:55.015431Z",
     "shell.execute_reply": "2021-07-24T19:07:55.014616Z",
     "shell.execute_reply.started": "2021-07-24T19:07:54.743038Z"
    }
   },
   "outputs": [
    {
     "name": "stderr",
     "output_type": "stream",
     "text": [
      "C:\\tools\\Anaconda3\\lib\\site-packages\\seaborn\\distributions.py:2551: FutureWarning: `distplot` is a deprecated function and will be removed in a future version. Please adapt your code to use either `displot` (a figure-level function with similar flexibility) or `histplot` (an axes-level function for histograms).\n",
      "  warnings.warn(msg, FutureWarning)\n"
     ]
    },
    {
     "data": {
      "image/png": "[encoded data removed]",
      "text/plain": [
       "<Figure size 432x288 with 1 Axes>"
      ]
     },
     "metadata": {
      "needs_background": "light"
     },
     "output_type": "display_data"
    }
   ],
   "source": [
    "#Normalizing the target value by taking log\n",
    "y_trainval = np.log(y_trainval)\n",
    "\n",
    "ax = sns.distplot(y_trainval)\n",
    "plt.show()"
   ]
  },
  {
   "cell_type": "code",
   "execution_count": null,
   "metadata": {
    "execution": {
     "iopub.execute_input": "2021-07-24T19:07:55.024170Z",
     "iopub.status.busy": "2021-07-24T19:07:55.023876Z"
    }
   },
   "outputs": [
    {
     "name": "stdout",
     "output_type": "stream",
     "text": [
      "Fitting 3 folds for each of 8 candidates, totalling 24 fits\n"
     ]
    },
    {
     "name": "stderr",
     "output_type": "stream",
     "text": [
      "[Parallel(n_jobs=-1)]: Using backend LokyBackend with 4 concurrent workers.\n"
     ]
    }
   ],
   "source": [
    "#Make Pipeline for scaling data, choose degree for polynomial features and use Rige to evaluate\n",
    "from sklearn.pipeline import make_pipeline\n",
    "from sklearn.preprocessing import MinMaxScaler\n",
    "from sklearn.preprocessing import PolynomialFeatures\n",
    "from sklearn.feature_selection import RFE\n",
    "from sklearn.ensemble import RandomForestRegressor\n",
    "from sklearn.tree import DecisionTreeRegressor\n",
    "from sklearn.model_selection import GridSearchCV \n",
    "from sklearn.linear_model import Ridge\n",
    "pipe_1 = make_pipeline(MinMaxScaler(), PolynomialFeatures(), RFE(DecisionTreeRegressor()), Ridge()) \n",
    "#pipe_1.get_params().keys()\n",
    "param_grid_1 = {'polynomialfeatures__degree': [1, 2],'rfe__estimator__max_features': [20, 30], 'ridge__alpha': [10, 100]} \n",
    "grid_1 = GridSearchCV(pipe_1, param_grid=param_grid_1, cv=3, n_jobs=-1, verbose=2)\n",
    "grid_1.fit(X_trainval, y_trainval)"
   ]
  },
  {
   "cell_type": "code",
   "execution_count": null,
   "metadata": {},
   "outputs": [],
   "source": [
    "print(grid_1.best_score_)\n",
    "print(grid_1.best_params_)"
   ]
  },
  {
   "cell_type": "code",
   "execution_count": null,
   "metadata": {},
   "outputs": [],
   "source": [
    "results = pd.DataFrame(grid_1.cv_results_)\n",
    "scores = pd.DataFrame(np.array(results.mean_test_score).reshape(2, 3))\n",
    "sns.heatmap(scores,yticklabels=[1, 2], xticklabels=[10, 100, 1000])"
   ]
  },
  {
   "cell_type": "code",
   "execution_count": null,
   "metadata": {},
   "outputs": [],
   "source": [
    "#Scaling data\n",
    "from sklearn.preprocessing import MinMaxScaler\n",
    "from pandas import DataFrame\n",
    "scaler = MinMaxScaler()\n",
    "scaler.fit(X_trainval)\n",
    "X_trainval = DataFrame(scaler.transform(X_trainval), columns=X_trainval.columns)\n",
    "X_test = DataFrame(scaler.transform(X_test), columns=X_test.columns)"
   ]
  },
  {
   "cell_type": "code",
   "execution_count": null,
   "metadata": {},
   "outputs": [],
   "source": [
    "#Iterative Feature Selection\n",
    "from sklearn.feature_selection import RFE\n",
    "from sklearn.ensemble import RandomForestRegressor\n",
    "rf = RFE(RandomForestRegressor(n_estimators=100, random_state=42), n_features_to_select=30)\n",
    "rf.fit(X_trainval, y_trainval)\n",
    "X_trainval = DataFrame(rf.transform(X_trainval), columns=X_trainval.columns)\n",
    "X_test = DataFrame(rf.transform(X_test), columns=X_test.columns)"
   ]
  },
  {
   "cell_type": "code",
   "execution_count": null,
   "metadata": {},
   "outputs": [],
   "source": [
    "print(rf.transform(X_trainval))"
   ]
  },
  {
   "cell_type": "code",
   "execution_count": null,
   "metadata": {},
   "outputs": [],
   "source": [
    "print(X_test)"
   ]
  },
  {
   "cell_type": "code",
   "execution_count": null,
   "metadata": {},
   "outputs": [],
   "source": [
    "#Polynomial Features\n",
    "from sklearn.preprocessing import PolynomialFeatures\n",
    "poly = PolynomialFeatures(degree=2, include_bias=False).fit(X_trainval)\n",
    "X_trainval = poly.transform(X_trainval)\n",
    "X_test = poly.transform(X_test)\n",
    "print(X_test)"
   ]
  },
  {
   "cell_type": "code",
   "execution_count": null,
   "metadata": {},
   "outputs": [],
   "source": [
    "#Correlate top 30 features with the target value\n",
    "fig = plt.figure(figsize=(12,7))\n",
    "for i in np.arange(30):\n",
    "    ax = fig.add_subplot(5,6,i+1)\n",
    "    sns.regplot(x=X_trainval.iloc[:,i], y=y_trainval)\n",
    "\n",
    "plt.tight_layout()\n",
    "plt.show()"
   ]
  },
  {
   "cell_type": "code",
   "execution_count": null,
   "metadata": {},
   "outputs": [],
   "source": [
    "# outlier deletion\n",
    "Xmat = X_trainval\n",
    "Xmat['SalePrice'] = y_trainval\n",
    "Xmat = Xmat.drop(Xmat[(Xmat['TotalSF']>0.5) & (Xmat['SalePrice']<12.5)].index)\n",
    "Xmat = Xmat.drop(Xmat[(Xmat['GrLivArea']>0.5) & (Xmat['SalePrice']<13)].index)\n",
    "\n",
    "# recover\n",
    "y_trainval = Xmat['SalePrice']\n",
    "X_trainval = Xmat.drop(['SalePrice'], axis=1)"
   ]
  },
  {
   "cell_type": "code",
   "execution_count": null,
   "metadata": {},
   "outputs": [],
   "source": [
    "# XGBoost Model\n",
    "import xgboost as xgb\n",
    "from sklearn.model_selection import GridSearchCV\n",
    "\n",
    "print(\"Parameter optimization\")\n",
    "xgb_model = xgb.XGBRegressor()\n",
    "reg_xgb = GridSearchCV(xgb_model,{'max_depth': [1,2,4,6],'n_estimators': [100, 150, 200,250]}, cv=5)\n",
    "X_trainval_xg = np.ascontiguousarray(X_trainval)\n",
    "y_trainval_xg = np.ascontiguousarray(y_trainval)\n",
    "reg_xgb.fit(X_trainval_xg, y_trainval_xg)\n",
    "print(reg_xgb.best_score_)\n",
    "print(reg_xgb.best_params_)"
   ]
  },
  {
   "cell_type": "code",
   "execution_count": null,
   "metadata": {},
   "outputs": [],
   "source": [
    "#Analyzing result of cv XGB model\n",
    "results = pd.DataFrame(reg_xgb.cv_results_)\n",
    "scores = pd.DataFrame(np.array(results.mean_test_score).reshape(4, 4))\n",
    "sns.heatmap(scores,yticklabels=[1, 2, 4, 6], xticklabels=[100, 150, 200, 250], square=True)"
   ]
  },
  {
   "cell_type": "code",
   "execution_count": null,
   "metadata": {},
   "outputs": [],
   "source": [
    "#Neural Network Model\n",
    "from keras.models import Sequential\n",
    "from keras.layers import Dense\n",
    "from keras.wrappers.scikit_learn import KerasRegressor\n",
    "\n",
    "def create_model(optimizer='adam'):\n",
    "    model = Sequential()\n",
    "    model.add(Dense(X_trainval.shape[1], input_dim=X_trainval.shape[1], kernel_initializer='normal', activation='relu'))\n",
    "    model.add(Dense(16, kernel_initializer='normal', activation='relu'))\n",
    "    model.add(Dense(1, kernel_initializer='normal'))\n",
    "\n",
    "    model.compile(loss='mean_squared_error', optimizer=optimizer)\n",
    "    return model\n",
    "\n",
    "nn_model = KerasRegressor(build_fn=create_model, verbose=0)\n",
    "# define the grid search parameters\n",
    "optimizer = ['SGD','Adam']\n",
    "batch_size = [10, 30, 50]\n",
    "epochs = [10, 50, 100]\n",
    "param_grid = dict(optimizer=optimizer, batch_size=batch_size, epochs=epochs)\n",
    "reg_dl = GridSearchCV(estimator=nn_model, param_grid=param_grid, n_jobs=-1)\n",
    "reg_dl.fit(X_trainval, y_trainval)\n",
    "\n",
    "print(reg_dl.best_score_)\n",
    "print(reg_dl.best_params_)"
   ]
  },
  {
   "cell_type": "code",
   "execution_count": null,
   "metadata": {},
   "outputs": [],
   "source": [
    "#SVR Model\n",
    "from sklearn.svm import SVR\n",
    "\n",
    "reg_svr = GridSearchCV(SVR(kernel='rbf', gamma=0.1), cv=5,\n",
    "                   param_grid={\"C\": [1e1, 1e2, 1e3, 1e4],\n",
    "                               \"gamma\": np.logspace(-4, 0, 5)})\n",
    "reg_svr.fit(X_trainval, y_trainval)\n",
    "\n",
    "print(reg_svr.best_score_)\n",
    "print(reg_svr.best_params_)"
   ]
  },
  {
   "cell_type": "code",
   "execution_count": null,
   "metadata": {},
   "outputs": [],
   "source": [
    "#Analyzing result of cv SVR Model\n",
    "results_svr = pd.DataFrame(reg_svr.cv_results_)\n",
    "scores_svr = pd.DataFrame(np.array(results_svr.mean_test_score).reshape(4, 5))\n",
    "sns.heatmap(scores_svr, xticklabels=np.logspace(-4, 0, 5), yticklabels=[1e1, 1e2, 1e3, 1e4])\n"
   ]
  },
  {
   "cell_type": "code",
   "execution_count": null,
   "metadata": {},
   "outputs": [],
   "source": [
    "# second feature matrix\n",
    "X_train2 = pd.DataFrame( {'XGB': reg_xgb.predict(X_trainval_xg),\n",
    "     'NN': reg_dl.predict(X_trainval).ravel(),\n",
    "     'SVR': reg_svr.predict(X_trainval),\n",
    "    })"
   ]
  },
  {
   "cell_type": "code",
   "execution_count": null,
   "metadata": {},
   "outputs": [],
   "source": [
    "# second-feature modeling using linear regression\n",
    "from sklearn.linear_model import LinearRegression\n",
    "\n",
    "reg = LinearRegression().fit(X_train2, y_trainval)\n",
    "\n",
    "# prediction using the test set\n",
    "X_test_xgb = np.ascontiguousarray(X_test)\n",
    "X_test2 = pd.DataFrame( {'XGB': reg_xgb.predict(X_test_xgb),\n",
    "     'DL': reg_dl.predict(X_test).ravel(),\n",
    "     'SVR': reg_svr.predict(X_test),\n",
    "    })\n",
    "y_pred = np.exp(reg.predict(X_test2))"
   ]
  },
  {
   "cell_type": "code",
   "execution_count": null,
   "metadata": {},
   "outputs": [],
   "source": [
    "submission = pd.DataFrame({\"Id\": test_ID,\"SalePrice\": y_pred})\n",
    "#submission.to_csv('houseprice.csv', index=False)"
   ]
  }
 ],
 "metadata": {
  "kernelspec": {
   "display_name": "Python 3",
   "language": "python",
   "name": "python3"
  },
  "language_info": {
   "codemirror_mode": {
    "name": "ipython",
    "version": 3
   },
   "file_extension": ".py",
   "mimetype": "text/x-python",
   "name": "python",
   "nbconvert_exporter": "python",
   "pygments_lexer": "ipython3",
   "version": "3.8.5"
  }
 },
 "nbformat": 4,
 "nbformat_minor": 4
}
